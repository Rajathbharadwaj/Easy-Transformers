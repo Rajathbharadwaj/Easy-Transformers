{
 "metadata": {
  "language_info": {
   "codemirror_mode": {
    "name": "ipython",
    "version": 3
   },
   "file_extension": ".py",
   "mimetype": "text/x-python",
   "name": "python",
   "nbconvert_exporter": "python",
   "pygments_lexer": "ipython3",
   "version": "3.7.7-final"
  },
  "orig_nbformat": 2,
  "kernelspec": {
   "name": "python_defaultSpec_1599137171850",
   "display_name": "Python 3.7.7 64-bit ('resemblyzer': conda)"
  }
 },
 "nbformat": 4,
 "nbformat_minor": 2,
 "cells": [
  {
   "cell_type": "code",
   "execution_count": 2,
   "metadata": {},
   "outputs": [],
   "source": [
    "s = \"HuggingFace is creating a {nlp.tokenizer.mask_token} that the community uses to solve NLP tasks.\""
   ]
  },
  {
   "cell_type": "code",
   "execution_count": 9,
   "metadata": {},
   "outputs": [],
   "source": [
    "s = \"HuggingFace is creating a {} that the community uses to solve NLP tasks.\""
   ]
  },
  {
   "cell_type": "code",
   "execution_count": 10,
   "metadata": {},
   "outputs": [
    {
     "output_type": "execute_result",
     "data": {
      "text/plain": "'HuggingFace is creating a {nlp.tokenizer.mask_token} that the community uses to solve NLP tasks.'"
     },
     "metadata": {},
     "execution_count": 10
    }
   ],
   "source": [
    "s.replace('{}', '{nlp.tokenizer.mask_token}')"
   ]
  },
  {
   "cell_type": "code",
   "execution_count": 7,
   "metadata": {},
   "outputs": [
    {
     "output_type": "execute_result",
     "data": {
      "text/plain": "'s'"
     },
     "metadata": {},
     "execution_count": 7
    }
   ],
   "source": [
    "ss"
   ]
  },
  {
   "cell_type": "code",
   "execution_count": 11,
   "metadata": {},
   "outputs": [],
   "source": [
    "sequence = \"{}\".format(s)\n",
    "sequence = sequence.replace(\"{}\", \"{tokenizer.mask_token}\")"
   ]
  },
  {
   "cell_type": "code",
   "execution_count": 12,
   "metadata": {},
   "outputs": [
    {
     "output_type": "execute_result",
     "data": {
      "text/plain": "'HuggingFace is creating a {tokenizer.mask_token} that the community uses to solve NLP tasks.'"
     },
     "metadata": {},
     "execution_count": 12
    }
   ],
   "source": [
    "sequence"
   ]
  },
  {
   "cell_type": "code",
   "execution_count": 13,
   "metadata": {},
   "outputs": [],
   "source": [
    "import torch\n"
   ]
  },
  {
   "cell_type": "code",
   "execution_count": null,
   "metadata": {},
   "outputs": [],
   "source": []
  },
  {
   "cell_type": "code",
   "execution_count": 1,
   "metadata": {},
   "outputs": [],
   "source": [
    "from easytransformers import EasyTransformers"
   ]
  },
  {
   "cell_type": "code",
   "execution_count": 2,
   "metadata": {
    "tags": []
   },
   "outputs": [
    {
     "output_type": "stream",
     "name": "stdout",
     "text": "EQA\n[INFO....] Extractive Question Answering\n[INFO....] Downloading bert for you\n[INFO....] Downloaded bert for you\nAnsswers\n\n{'How many pretrained models are available in 🤗 Transformers?': 'over 32 +', 'What does 🤗 Transformers provide?': 'general - purpose architectures', '🤗 Transformers provides interoperability between which frameworks?': 'tensorflow 2 . 0 and pytorch'}\n"
    }
   ],
   "source": [
    "context = \"🤗 Transformers (formerly known as pytorch-transformers and pytorch-pretrained-bert) provides general-purpose architectures (BERT, GPT-2, RoBERTa, XLM, DistilBert, XLNet…) for Natural Language Understanding (NLU) and Natural Language Generation (NLG) with over 32+ pretrained models in 100+ languages and deep interoperability between TensorFlow 2.0 and PyTorch.\"\n",
    "\n",
    "questions = [\"How many pretrained models are available in 🤗 Transformers?\",\n",
    "\"What does 🤗 Transformers provide?\",\n",
    "\"🤗 Transformers provides interoperability between which frameworks?\"]\n",
    "sc = EasyTransformers(taskType=\"EQA\", questions=questions, context=context)"
   ]
  },
  {
   "cell_type": "code",
   "execution_count": null,
   "metadata": {},
   "outputs": [],
   "source": []
  }
 ]
}